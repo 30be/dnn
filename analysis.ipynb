{
 "cells": [
  {
   "cell_type": "code",
   "execution_count": 2,
   "id": "d15a31da-c6c3-427d-a070-afdc48a01305",
   "metadata": {},
   "outputs": [],
   "source": [
    "import os\n",
    "import sys\n",
    "import random\n",
    "import json\n",
    "import time\n",
    "import numpy as np\n",
    "import torch\n",
    "import torchvision\n",
    "from tqdm import tqdm\n",
    "from datetime import datetime\n",
    "from functools import partial\n",
    "import itertools\n",
    "import matplotlib.pyplot as plt\n",
    "import matplotlib.patches as patches\n",
    "from svetlanna.units import ureg\n",
    "import svetlanna as sv\n",
    "from src.wf_datasets import DatasetOfWavefronts\n",
    "from src.clf_loops import onn_train_clf, onn_validate_clf"
   ]
  },
  {
   "cell_type": "code",
   "execution_count": 3,
   "id": "94dfb2cb-94cf-4e83-a079-0a6ec828a66b",
   "metadata": {},
   "outputs": [],
   "source": [
    "plt.style.use('dark_background')\n",
    "%matplotlib inline"
   ]
  },
  {
   "cell_type": "code",
   "execution_count": 4,
   "id": "6532e15d-291a-4c30-9310-90f6bc4663c4",
   "metadata": {},
   "outputs": [],
   "source": [
    "# Constants\n",
    "\n",
    "DIR_RESULTS = 'results'\n",
    "MNIST_DATA_FOLDER = './data'  # folder to store data\n",
    "MAX_PHASE = 2 * np.pi # TODO: Try to remove it\n",
    "FREESPACE_METHOD = 'AS'  # we use an angular spectrum method\n",
    "MODULATION_TYPE = 'amp' # We will not touch initial phase\n",
    "NUMBER_OF_CLASSES = 10\n",
    "ZONES_HIGHLIGHT_COLOR = 'w'\n",
    "ZONES_LW = 0.5\n",
    "DEVICE = 'cpu'\n",
    "RESULTS_FOLDER = f'{DIR_RESULTS}/exp_20-06-2025_14-48'"
   ]
  },
  {
   "cell_type": "code",
   "execution_count": 5,
   "id": "d815d886-8ffb-4a79-b488-6b207cd05b64",
   "metadata": {},
   "outputs": [
    {
     "name": "stdout",
     "output_type": "stream",
     "text": [
      "exp_24-06-2025_13-30\n",
      "exp_zones_23-06-2025_23-03\n",
      "exp_radial_25-06-2025_01-44\n",
      "exp_radial_25-06-2025_06-17\n",
      "exp_triplets_24-06-2025_13-51\n",
      "exp_radial_25-06-2025_02-27\n",
      "exp_radial_24-06-2025_22-51\n",
      "exp_zones_23-06-2025_19-08\n",
      "exp_zones_24-06-2025_00-52\n",
      "exp_radial_24-06-2025_21-52\n",
      "exp_radial_25-06-2025_08-00\n",
      "exp_zones_23-06-2025_22-03\n",
      "test_acc_01-layers.json\n",
      "test_acc_05-layers.json\n",
      "exp_zones_23-06-2025_21-05\n",
      "exp_radial_25-06-2025_07-01\n",
      "exp_zones_24-06-2025_00-18\n",
      "exp_radial_26-06-2025_10-36\n",
      "exp_20-06-2025_15-09\n",
      "exp_radial_25-06-2025_00-04\n",
      "exp_stripes_25-06-2025_00-10\n",
      "exp_23-06-2025_13-46\n",
      "exp_stripes_24-06-2025_20-41\n",
      "exp_zones_23-06-2025_22-39\n",
      "exp_22-06-2025_00-04\n",
      ".ipynb_checkpoints\n",
      "test_acc_03-layers.json\n",
      "exp_21-06-2025_21-27\n",
      "exp_triplets_24-06-2025_22-07\n",
      "exp_stripes_24-06-2025_18-26\n",
      "exp_22-06-2025_15-07\n",
      "exp_triplets_25-06-2025_00-24\n",
      "exp_zones_23-06-2025_18-23\n",
      "exp_23-06-2025_12-42\n",
      "exp_22-06-2025_18-12\n",
      "exp_zones_24-06-2025_00-25\n",
      "exp_stripes_24-06-2025_22-02\n",
      "exp_radial_25-06-2025_04-36\n",
      "exp_23-06-2025_13-23\n",
      "exp_21-06-2025_18-16\n",
      "exp_24-06-2025_12-07\n",
      "exp_triplets_24-06-2025_23-03\n",
      "exp_zones_23-06-2025_20-09\n",
      "exp_stripes_24-06-2025_14-21\n",
      "exp_zones_23-06-2025_18-47\n",
      "exp_zones_24-06-2025_00-51\n",
      "exp_triplets_24-06-2025_15-08\n",
      "exp_20-06-2025_22-22\n",
      "exp_stripes_24-06-2025_18-56\n",
      "exp_triplets_24-06-2025_14-28\n",
      "exp_radial_25-06-2025_03-24\n",
      "exp_20-06-2025_14-48\n",
      "exp_22-06-2025_09-41\n",
      "test_acc_02-layers.json\n",
      "exp_zones_23-06-2025_22-58\n",
      "exp_21-06-2025_20-42\n",
      "exp_triplets_24-06-2025_15-45\n",
      "exp_23-06-2025_12-01\n",
      "exp_22-06-2025_18-50\n",
      "exp_triplets_24-06-2025_18-20\n",
      "exp_23-06-2025_12-46\n",
      "\n",
      "RESULTS_FOLDER='results/exp_20-06-2025_14-48'\n"
     ]
    }
   ],
   "source": [
    "print(*os.listdir(DIR_RESULTS), sep='\\n')\n",
    "print(f\"\\n{RESULTS_FOLDER=}\")"
   ]
  },
  {
   "cell_type": "code",
   "execution_count": 6,
   "id": "85924077-7097-4991-be45-910f654023ea",
   "metadata": {},
   "outputs": [
    {
     "name": "stdout",
     "output_type": "stream",
     "text": [
      "{'wavelength': 0.000749481145, 'neuron_size': 0.00039722500685, 'mesh_size': [200, 200], 'use_apertures': False, 'aperture_size': [200, 200], 'detector_segment_size': 12, 'segments_order': [0, 1, 2, 3, 4, 5, 6, 7, 8, 9], 'train_val_seed': 47, 'torch_seed': 73, 'num_diff_layers': 3, 'free_space_distance': 0.029979245800000002, 'train_batch_size': 20, 'val_batch_size': 8, 'adam_lr': 0.001, 'number_of_epochs': 3}\n",
      "Layer size x, m: 0.07944500137\n",
      "Layer size y, m: 0.07944500137\n"
     ]
    }
   ],
   "source": [
    "# Variable\n",
    "\n",
    "print(variables := json.load(open(f'{RESULTS_FOLDER}/conditions.json')))\n",
    "globals().update(variables)\n",
    "detector_size = aperture_size if use_apertures else mesh_size\n",
    "print(\"Layer size x, m:\", x_layer_size := mesh_size[1] * neuron_size)\n",
    "print(\"Layer size y, m:\", y_layer_size := mesh_size[0] * neuron_size)\n",
    "\n",
    "sim_params = sv.SimulationParameters(\n",
    "    axes={\n",
    "        'W': torch.linspace(-x_layer_size / 2, x_layer_size / 2, mesh_size[1]),\n",
    "        'H': torch.linspace(-y_layer_size / 2, y_layer_size / 2, mesh_size[0]),\n",
    "        'wavelength': wavelength,\n",
    "    }\n",
    ")\n",
    "init_phases = torch.ones(num_diff_layers) * np.pi # Todo: try zeros in an attempt to remove that at all\n",
    "# Or something more random as why not?\n",
    "test_batch_size = 10\n",
    "detector_segment_size_m = detector_segment_size * neuron_size # in [m]\n",
    "detector_mask = torch.load(f'{RESULTS_FOLDER}/detector_mask.pt')\n",
    "detector_processor = sv.detector.DetectorProcessorClf( # TODO: What does Clf mean\n",
    "    simulation_parameters=sim_params,\n",
    "    num_classes=NUMBER_OF_CLASSES,\n",
    "    segmented_detector=detector_mask,\n",
    ")\n",
    "selected_detector_mask = detector_processor.segmented_detector.clone().detach() # ???\n",
    "loss_func_clf = torch.nn.CrossEntropyLoss()\n",
    "loss_func_name = 'CE loss'\n",
    "losses_data = np.genfromtxt(f'{RESULTS_FOLDER}/training_curves.csv', delimiter=',')"
   ]
  },
  {
   "cell_type": "code",
   "execution_count": 7,
   "id": "c1d740b2-dfd1-4bf3-a86c-6fb13a831df0",
   "metadata": {},
   "outputs": [],
   "source": [
    "mnist = partial(torchvision.datasets.MNIST, root=MNIST_DATA_FOLDER, download=True)\n",
    "mnist_train_ds = mnist(train=True)\n",
    "mnist_test_ds = mnist(train=False)"
   ]
  },
  {
   "cell_type": "code",
   "execution_count": 8,
   "id": "88113581-f819-4554-8d6a-db075f713a22",
   "metadata": {},
   "outputs": [],
   "source": [
    "resize_y = int(detector_size[0] / 2)\n",
    "resize_x = int(detector_size[1] / 2)  # shape for transforms.Resize\n",
    "\n",
    "# paddings along OY\n",
    "pad_top = int((mesh_size[1] - resize_y) / 2)\n",
    "pad_bottom = mesh_size[0] - pad_top - resize_y\n",
    "# paddings along OX\n",
    "pad_left = int((mesh_size[0] - resize_x) / 2)\n",
    "pad_right = mesh_size[1] - pad_left - resize_x  # params for transforms.Pad"
   ]
  },
  {
   "cell_type": "code",
   "execution_count": 9,
   "id": "47e20e55-53f7-4f92-95eb-3ef75d5dddeb",
   "metadata": {},
   "outputs": [],
   "source": [
    "# compose all transforms!\n",
    "from svetlanna.transforms import ToWavefront\n",
    "image_transform_for_ds = torchvision.transforms.Compose(\n",
    "  [\n",
    "      torchvision.transforms.ToTensor(),\n",
    "      torchvision.transforms.Resize(\n",
    "          size=(resize_y, resize_x),\n",
    "          interpolation=torchvision.transforms.InterpolationMode.NEAREST,\n",
    "      ),\n",
    "      torchvision.transforms.Pad(\n",
    "          padding=(pad_left, pad_top, pad_right, pad_bottom),\n",
    "          fill=0,\n",
    "      ),  # padding to match sizes!\n",
    "      ToWavefront(modulation_type=MODULATION_TYPE)  # <- select modulation type!!!\n",
    "  ]  \n",
    ")"
   ]
  },
  {
   "cell_type": "code",
   "execution_count": 10,
   "id": "22411824-c546-4721-99cb-1564445a4c3f",
   "metadata": {},
   "outputs": [],
   "source": [
    "def get_const_phase_layer(\n",
    "    sim_params: sv.SimulationParameters,\n",
    "    value: float\n",
    "):\n",
    "    return sv.elements.DiffractiveLayer(\n",
    "        simulation_parameters=sim_params,\n",
    "        mask=sv.parameters.ConstrainedParameter( # TODO: Try to remove it, or at least know how constrained parameters work\n",
    "            torch.ones(mesh_size) * value, # TODO: Check that\n",
    "            min_value=0,\n",
    "            max_value=2*torch.pi\n",
    "        ),\n",
    "    )"
   ]
  },
  {
   "cell_type": "code",
   "execution_count": 11,
   "id": "f4e3cf49-5e7f-4fe1-81c9-dd90021c9406",
   "metadata": {},
   "outputs": [
    {
     "ename": "NameError",
     "evalue": "name 'k' is not defined",
     "output_type": "error",
     "traceback": [
      "\u001b[31m---------------------------------------------------------------------------\u001b[39m",
      "\u001b[31mNameError\u001b[39m                                 Traceback (most recent call last)",
      "\u001b[36mCell\u001b[39m\u001b[36m \u001b[39m\u001b[32mIn[11]\u001b[39m\u001b[32m, line 4\u001b[39m\n\u001b[32m      1\u001b[39m \u001b[38;5;28;01mdef\u001b[39;00m\u001b[38;5;250m \u001b[39m\u001b[34mget_elements_list\u001b[39m(\n\u001b[32m      2\u001b[39m     num_layers=num_diff_layers,\n\u001b[32m      3\u001b[39m     simulation_parameters=sim_params,\n\u001b[32m----> \u001b[39m\u001b[32m4\u001b[39m     freespace_method=\u001b[43mk\u001b[49m,\n\u001b[32m      5\u001b[39m     phase_values=init_phases,\n\u001b[32m      6\u001b[39m     apertures=use_apertures,\n\u001b[32m      7\u001b[39m     aperture_size=detector_size\n\u001b[32m      8\u001b[39m ):\n\u001b[32m      9\u001b[39m     free_space = \u001b[38;5;28;01mlambda\u001b[39;00m: sv.elements.FreeSpace(simulation_parameters, free_space_distance, freespace_method) \u001b[38;5;66;03m# Here happens unnecessary blurring. Or not?\u001b[39;00m\n\u001b[32m     10\u001b[39m     aperture = \u001b[38;5;28;01mlambda\u001b[39;00m: [sv.elements.RectangularAperture(simulation_parameters, aperture_size)] \u001b[38;5;28;01mif\u001b[39;00m apertures \u001b[38;5;28;01melse\u001b[39;00m []\n",
      "\u001b[31mNameError\u001b[39m: name 'k' is not defined"
     ]
    }
   ],
   "source": [
    "def get_elements_list(\n",
    "    num_layers=num_diff_layers,\n",
    "    simulation_parameters=sim_params,\n",
    "    freespace_method=k,\n",
    "    phase_values=init_phases,\n",
    "    apertures=use_apertures,\n",
    "    aperture_size=detector_size\n",
    "):\n",
    "    free_space = lambda: sv.elements.FreeSpace(simulation_parameters, free_space_distance, freespace_method) # Here happens unnecessary blurring. Or not?\n",
    "    aperture = lambda: [sv.elements.RectangularAperture(simulation_parameters, aperture_size)] if apertures else []\n",
    "    layer = lambda i: aperture() + [get_const_phase_layer(simulation_parameters, phase_values[i]), free_space()]\n",
    "    layers = list(itertools.chain(*map(layer, range(num_layers))))\n",
    "    return [free_space()] + layers + aperture() + [sv.detector.Detector(simulation_parameters,'intensity',)]\n",
    "\n",
    "optical_setup_loaded = sv.LinearOpticalSetup(get_elements_list())\n",
    "optical_setup_loaded.net.load_state_dict(torch.load(f'{RESULTS_FOLDER}/optical_net.pth')) # TODO: What is that?"
   ]
  },
  {
   "cell_type": "code",
   "execution_count": null,
   "id": "bd154079-4d24-4787-9304-df43fd2b7d3d",
   "metadata": {},
   "outputs": [],
   "source": [
    "def get_zones_patches(detector_mask, delta = 0.5):\n",
    "    def zone_patch(ind_class):\n",
    "        idx_y, idx_x = (detector_mask == ind_class).nonzero(as_tuple=True)\n",
    "        return patches.Rectangle(\n",
    "            (idx_x[0] - delta, idx_y[0] - delta), \n",
    "            idx_x[-1] - idx_x[0] + 2 * delta, idx_y[-1] - idx_y[0] + 2 * delta, \n",
    "            linewidth=ZONES_LW, \n",
    "            edgecolor=ZONES_HIGHLIGHT_COLOR,\n",
    "            facecolor='none'\n",
    "        )\n",
    "    return [zone_patch(i) for i in range(NUMBER_OF_CLASSES)]"
   ]
  },
  {
   "cell_type": "code",
   "execution_count": null,
   "id": "1eaacee1-7361-4d4c-83d6-815ccebaebef",
   "metadata": {},
   "outputs": [],
   "source": [
    "dow = partial(DatasetOfWavefronts, transformations=image_transform_for_ds, sim_params=sim_params)\n",
    "mnist_wf_train_ds = dow(init_ds=mnist_train_ds)\n",
    "mnist_wf_test_ds = dow(init_ds=mnist_test_ds)\n",
    "\n",
    "train_wf_ds, val_wf_ds = torch.utils.data.random_split(\n",
    "    dataset=mnist_wf_train_ds,\n",
    "    lengths=[55000, 5000],  # sizes from the article\n",
    "    generator=torch.Generator().manual_seed(train_val_seed)  # for reproducibility\n",
    ")\n",
    "train_wf_loader = torch.utils.data.DataLoader(train_wf_ds, train_batch_size, shuffle=True) # TODO: Why shuffle\n",
    "val_wf_loader = torch.utils.data.DataLoader(val_wf_ds, val_batch_size)\n",
    "test_wf_loader = torch.utils.data.DataLoader(mnist_wf_test_ds, test_batch_size)"
   ]
  },
  {
   "cell_type": "code",
   "execution_count": 12,
   "id": "628fab74-a031-49a8-abe5-1d2d99f7631b",
   "metadata": {},
   "outputs": [
    {
     "name": "stdout",
     "output_type": "stream",
     "text": [
      "[0.7656 0.8194 0.8294]\n"
     ]
    },
    {
     "data": {
      "image/png": "[encoded data removed]",
      "text/plain": [
       "<Figure size 1000x300 with 2 Axes>"
      ]
     },
     "metadata": {},
     "output_type": "display_data"
    }
   ],
   "source": [
    "def plot_loss_curves(train_epochs_losses, val_epochs_losses, train_epochs_acc, val_epochs_acc):\n",
    "    print(val_epochs_acc)\n",
    "    fig, axs = plt.subplots(1, 2, figsize=(10, 3))\n",
    "\n",
    "    axs[0].plot(range(1, number_of_epochs + 1), np.array(train_epochs_losses), label='train')\n",
    "    axs[0].plot(range(1, number_of_epochs + 1), np.array(val_epochs_losses), linestyle='dashed', label='validation')\n",
    "\n",
    "    axs[1].plot(range(1, number_of_epochs + 1), train_epochs_acc, label='train')\n",
    "    axs[1].plot(range(1, number_of_epochs + 1), val_epochs_acc, linestyle='dashed', label='validation')\n",
    "\n",
    "    axs[0].set_ylabel(loss_func_name)\n",
    "    axs[0].set_xlabel('Epoch')\n",
    "    axs[0].legend()\n",
    "\n",
    "    axs[1].set_ylabel('Accuracy')\n",
    "    axs[1].set_xlabel('Epoch')\n",
    "    axs[1].legend()\n",
    "\n",
    "    plt.show()\n",
    "plot_loss_curves(*losses_data[1:, :].T)"
   ]
  },
  {
   "cell_type": "code",
   "execution_count": 13,
   "id": "11683040-3e27-4377-959c-bea12a776875",
   "metadata": {},
   "outputs": [
    {
     "ename": "NameError",
     "evalue": "name 'optical_setup_loaded' is not defined",
     "output_type": "error",
     "traceback": [
      "\u001b[31m---------------------------------------------------------------------------\u001b[39m",
      "\u001b[31mNameError\u001b[39m                                 Traceback (most recent call last)",
      "\u001b[36mCell\u001b[39m\u001b[36m \u001b[39m\u001b[32mIn[13]\u001b[39m\u001b[32m, line 18\u001b[39m\n\u001b[32m     15\u001b[39m         im = ax_this.imshow(layer.mask.detach(), \u001b[33m'\u001b[39m\u001b[33mgist_stern\u001b[39m\u001b[33m'\u001b[39m)\n\u001b[32m     16\u001b[39m         fig.colorbar()\n\u001b[32m---> \u001b[39m\u001b[32m18\u001b[39m plot_difflayers(\u001b[43moptical_setup_loaded\u001b[49m)\n",
      "\u001b[31mNameError\u001b[39m: name 'optical_setup_loaded' is not defined"
     ]
    }
   ],
   "source": [
    "def plot_difflayers(optical_setup):\n",
    "    diff_layers = [layer for layer in optical_setup.net if isinstance(layer, sv.elements.DiffractiveLayer)]\n",
    "    n_cols = len(diff_layers)\n",
    "    n_rows = 1\n",
    "\n",
    "    fig, axs = plt.subplots(n_rows, n_cols, figsize=(n_cols * 3, n_rows * 3.2))\n",
    "    \n",
    "    for ind_diff_layer, layer in enumerate(diff_layers):\n",
    "        if n_rows > 1:\n",
    "            ax_this = axs[ind_diff_layer // n_cols][ind_diff_layer % n_cols]\n",
    "        else:\n",
    "            ax_this = axs[ind_diff_layer % n_cols]\n",
    "\n",
    "        ax_this.set_title(f'{ind_diff_layer + 1}. DiffractiveLayer')\n",
    "        im = ax_this.imshow(layer.mask.detach(), 'gist_stern')\n",
    "        fig.colorbar()\n",
    "\n",
    "plot_difflayers(optical_setup_loaded)"
   ]
  },
  {
   "cell_type": "code",
   "execution_count": 21,
   "id": "98333cf9-832f-46ac-8bfa-fef032846a15",
   "metadata": {},
   "outputs": [
    {
     "name": "stderr",
     "output_type": "stream",
     "text": [
      "validation: 100%|███████████████████████████████████████████████████████████████████████████████████| 1000/1000 [01:36<00:00, 10.37it/s]"
     ]
    },
    {
     "name": "stdout",
     "output_type": "stream",
     "text": [
      "Results after training on TEST set:\n",
      "\tCE loss : 1.882397\n",
      "\tAccuracy : 83.9 %\n"
     ]
    },
    {
     "name": "stderr",
     "output_type": "stream",
     "text": [
      "\n"
     ]
    }
   ],
   "source": [
    "    k\n",
    "print(\n",
    "    'Results after training on TEST set:\\n' + \n",
    "    f'\\t{loss_func_name} : {np.mean(test_losses_1):.6f}\\n' +\n",
    "    f'\\tAccuracy : {(test_accuracy_1 * 100):>0.1f} %'\n",
    ")"
   ]
  },
  {
   "cell_type": "code",
   "execution_count": 22,
   "id": "57cc4e7e-cfb7-4ed3-9caf-87bc39b7ef23",
   "metadata": {},
   "outputs": [
    {
     "data": {
      "image/png": "[encoded data removed]",
      "text/plain": [
       "<Figure size 600x300 with 2 Axes>"
      ]
     },
     "metadata": {},
     "output_type": "display_data"
    }
   ],
   "source": [
    "def plot_wavefront(test_wavefront, ind_test):\n",
    "    cmap = 'hot'\n",
    "    \n",
    "    fig, axs = plt.subplots(1, 2, figsize=(2 * 3, 3))\n",
    "    \n",
    "    axs[0].set_title(f'intensity (id={ind_test})')\n",
    "    axs[0].imshow(test_wavefront.intensity, cmap)\n",
    "    \n",
    "    axs[1].set_title(f'phase')\n",
    "    axs[1].imshow(test_wavefront.phase, cmap)\n",
    "# '1' - 3214, good\n",
    "# '4' - 6152, good\n",
    "# '6' - 123, good\n",
    "# '8' - 128, good\n",
    "# '0' - 3, good\n",
    "ind_test = 123\n",
    "test_wavefront = mnist_wf_test_ds[ind_test][0]\n",
    "plot_wavefront(test_wavefront, ind_test)"
   ]
  },
  {
   "cell_type": "code",
   "execution_count": 1,
   "id": "f725f858-61f1-4157-978e-a71403c67701",
   "metadata": {},
   "outputs": [
    {
     "ename": "NameError",
     "evalue": "name 'optical_setup_loaded' is not defined",
     "output_type": "error",
     "traceback": [
      "\u001b[31m---------------------------------------------------------------------------\u001b[39m",
      "\u001b[31mNameError\u001b[39m                                 Traceback (most recent call last)",
      "\u001b[36mCell\u001b[39m\u001b[36m \u001b[39m\u001b[32mIn[1]\u001b[39m\u001b[32m, line 2\u001b[39m\n\u001b[32m      1\u001b[39m \u001b[38;5;66;03m# propagation of the example through the trained network\u001b[39;00m\n\u001b[32m----> \u001b[39m\u001b[32m2\u001b[39m setup_scheme, test_wavefronts = \u001b[43moptical_setup_loaded\u001b[49m.stepwise_forward(test_wavefront)\n",
      "\u001b[31mNameError\u001b[39m: name 'optical_setup_loaded' is not defined"
     ]
    }
   ],
   "source": [
    "# propagation of the example through the trained network\n",
    "setup_scheme, test_wavefronts = optical_setup_loaded.stepwise_forward(test_wavefront)"
   ]
  },
  {
   "cell_type": "code",
   "execution_count": 27,
   "id": "c616ff93-51d4-412d-8475-4cb33954aa80",
   "metadata": {},
   "outputs": [
    {
     "ename": "NameError",
     "evalue": "name 'wavefront' is not defined",
     "output_type": "error",
     "traceback": [
      "\u001b[31m---------------------------------------------------------------------------\u001b[39m",
      "\u001b[31mNameError\u001b[39m                                 Traceback (most recent call last)",
      "\u001b[36mCell\u001b[39m\u001b[36m \u001b[39m\u001b[32mIn[27]\u001b[39m\u001b[32m, line 12\u001b[39m\n\u001b[32m     10\u001b[39m fig, ax_this = plt.subplots(\u001b[32m1\u001b[39m, \u001b[32m1\u001b[39m, figsize=(\u001b[32m3\u001b[39m, \u001b[32m3.2\u001b[39m))\n\u001b[32m     11\u001b[39m ax_this.set_title(\u001b[33m'\u001b[39m\u001b[33mDetector Intensity\u001b[39m\u001b[33m'\u001b[39m)\n\u001b[32m---> \u001b[39m\u001b[32m12\u001b[39m ax_this.imshow(\u001b[43mwavefront\u001b[49m.detach(), cmap=\u001b[33m'\u001b[39m\u001b[33mhot\u001b[39m\u001b[33m'\u001b[39m)\n\u001b[32m     14\u001b[39m \u001b[38;5;28;01mfor\u001b[39;00m zone \u001b[38;5;129;01min\u001b[39;00m get_zones_patches(detector_mask):\n\u001b[32m     15\u001b[39m     ax_this.add_patch(zone)\n",
      "\u001b[31mNameError\u001b[39m: name 'wavefront' is not defined"
     ]
    },
    {
     "data": {
      "image/png": "[encoded data removed]",
      "text/plain": [
       "<Figure size 300x320 with 1 Axes>"
      ]
     },
     "metadata": {},
     "output_type": "display_data"
    }
   ],
   "source": [
    "def plot_intensity(wavefront):\n",
    "    fig, ax_this = plt.subplots(1, 1, figsize=(3, 3.2))\n",
    "    ax_this.set_title('Detector Intensity')\n",
    "    ax_this.imshow(wavefront.detach(), cmap='hot')\n",
    "    \n",
    "    for zone in get_zones_patches(detector_mask):\n",
    "        ax_this.add_patch(zone)\n",
    "#plot_intensity(test_wavefronts[-1])\n",
    "\n",
    "fig, ax_this = plt.subplots(1, 1, figsize=(3, 3.2))\n",
    "ax_this.set_title('Detector Intensity')\n",
    "ax_this.imshow(wavefront.detach(), cmap='hot')\n",
    "\n",
    "for zone in get_zones_patches(detector_mask):\n",
    "    ax_this.add_patch(zone)"
   ]
  },
  {
   "cell_type": "code",
   "execution_count": 47,
   "id": "392dd721-c8de-4e54-bf55-931c498c4f81",
   "metadata": {},
   "outputs": [
    {
     "name": "stdout",
     "output_type": "stream",
     "text": [
      "0 : 3.59%\n",
      "1 : 3.18%\n",
      "2 : 5.36%\n",
      "3 : 2.53%\n",
      "4 : 2.12%\n",
      "5 : 2.65%\n",
      "6 : 74.40%\n",
      "7 : 1.28%\n",
      "8 : 1.81%\n",
      "9 : 3.09%\n"
     ]
    }
   ],
   "source": [
    "test_probas = detector_processor.forward(test_wavefronts[-1])\n",
    "assert np.isclose(test_probas.sum().item(), 1)\n",
    "\n",
    "for label, prob in enumerate(test_probas[0]):\n",
    "    print(f'{label} : {prob * 100:.2f}%')"
   ]
  },
  {
   "cell_type": "code",
   "execution_count": 28,
   "id": "1baa4001-2dbd-49f0-83f1-317aa41c1f67",
   "metadata": {},
   "outputs": [
    {
     "name": "stderr",
     "output_type": "stream",
     "text": [
      "100%|█████████████████████████████████████| 10000/10000 [04:10<00:00, 39.84it/s]\n"
     ]
    }
   ],
   "source": [
    "targets_test_lst = []\n",
    "preds_test_lst = []  # lists of targets and model predictioons\n",
    "\n",
    "# loop over the test dataset\n",
    "for ind, (wavefront_this, target_this) in enumerate(tqdm(mnist_wf_test_ds)):\n",
    "    optical_setup_loaded.net.eval()\n",
    "    \n",
    "    batch_wavefronts = torch.unsqueeze(wavefront_this, 0)\n",
    "    batch_labels = torch.unsqueeze(torch.tensor(target_this), 0)  # to use forwards for batches\n",
    "    \n",
    "    with torch.no_grad():\n",
    "        detector_output = optical_setup_loaded.net(batch_wavefronts)\n",
    "        # process a detector image\n",
    "        batch_probas = detector_processor.batch_forward(detector_output)\n",
    "\n",
    "        for ind_in_batch in range(batch_labels.size()[0]):\n",
    "            label_this = batch_labels[ind_in_batch].item()  # true label\n",
    "            \n",
    "            targets_test_lst.append(label_this)\n",
    "            preds_test_lst.append(batch_probas[ind_in_batch].argmax().item())"
   ]
  },
  {
   "cell_type": "code",
   "execution_count": 29,
   "id": "041edbba-2002-46e2-93c4-0d2867142444",
   "metadata": {},
   "outputs": [
    {
     "ename": "NameError",
     "evalue": "name 'mat_y_size' is not defined",
     "output_type": "error",
     "traceback": [
      "\u001b[31m---------------------------------------------------------------------------\u001b[39m",
      "\u001b[31mNameError\u001b[39m                                 Traceback (most recent call last)",
      "\u001b[36mCell\u001b[39m\u001b[36m \u001b[39m\u001b[32mIn[29]\u001b[39m\u001b[32m, line 3\u001b[39m\n\u001b[32m      1\u001b[39m \u001b[38;5;66;03m# ordinary confusion matrix\u001b[39;00m\n\u001b[32m      2\u001b[39m confusion_matrix = torch.zeros(\n\u001b[32m----> \u001b[39m\u001b[32m3\u001b[39m     size=(\u001b[43mmat_y_size\u001b[49m, mat_x_size),  \u001b[38;5;66;03m# TODO: What is the size of the matrix?\u001b[39;00m\n\u001b[32m      4\u001b[39m     dtype=torch.int32\n\u001b[32m      5\u001b[39m )\n\u001b[32m      7\u001b[39m \u001b[38;5;28;01mfor\u001b[39;00m ind \u001b[38;5;129;01min\u001b[39;00m \u001b[38;5;28mrange\u001b[39m(\u001b[38;5;28mlen\u001b[39m(mnist_wf_test_ds)):\n\u001b[32m      8\u001b[39m     confusion_matrix[targets_test_lst[ind], preds_test_lst[ind]] += \u001b[32m1\u001b[39m\n",
      "\u001b[31mNameError\u001b[39m: name 'mat_y_size' is not defined"
     ]
    }
   ],
   "source": [
    "# ordinary confusion matrix\n",
    "confusion_matrix = torch.zeros(\n",
    "    size=(mat_y_size, mat_x_size),  # TODO: What is the size of the matrix?\n",
    "    dtype=torch.int32\n",
    ")\n",
    "\n",
    "for ind in range(len(mnist_wf_test_ds)):\n",
    "    confusion_matrix[targets_test_lst[ind], preds_test_lst[ind]] += 1"
   ]
  },
  {
   "cell_type": "code",
   "execution_count": null,
   "id": "cfa12b9f-bef2-4953-ad86-24b5246712e4",
   "metadata": {},
   "outputs": [],
   "source": [
    "fig, ax0 = plt.subplots(1, 1, figsize=(6, 5))\n",
    "\n",
    "# CONFUSION MATRIX\n",
    "ax0.set_title('Confusion matrix')\n",
    "ax0.matshow(confusion_matrix, cmap='Blues')\n",
    "\n",
    "for i in range(NUMBER_OF_CLASSES):\n",
    "    for j in range(NUMBER_OF_CLASSES):\n",
    "        val = confusion_matrix[j, i].item()\n",
    "        ax0.text(\n",
    "            i, j, str(val),\n",
    "            va='center', ha='center', \n",
    "            c='k', fontsize=9\n",
    "        )\n",
    "\n",
    "ax0.set_ylabel('Target')\n",
    "ax0.set_xlabel('Predicted')\n",
    "\n",
    "ax0.set_xticks(range(number_of_classes))\n",
    "ax0.set_yticks(range(number_of_classes))\n",
    "\n",
    "plt.show()\n",
    "\n",
    "# save figure\n",
    "# fig.savefig(f'{LOAD_FOLDER}/confusion_matrix.png', bbox_inches='tight')"
   ]
  },
  {
   "cell_type": "code",
   "execution_count": null,
   "id": "3addb431-f5b7-4ab8-bf23-f85140d74c5d",
   "metadata": {},
   "outputs": [],
   "source": []
  }
 ],
 "metadata": {
  "kernelspec": {
   "display_name": "Python 3 (ipykernel)",
   "language": "python",
   "name": "python3"
  },
  "language_info": {
   "codemirror_mode": {
    "name": "ipython",
    "version": 3
   },
   "file_extension": ".py",
   "mimetype": "text/x-python",
   "name": "python",
   "nbconvert_exporter": "python",
   "pygments_lexer": "ipython3",
   "version": "3.11.13"
  }
 },
 "nbformat": 4,
 "nbformat_minor": 5
}
